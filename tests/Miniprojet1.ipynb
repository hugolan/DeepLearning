{
 "cells": [
  {
   "cell_type": "code",
   "execution_count": 1,
   "id": "ecc7b11b",
   "metadata": {},
   "outputs": [],
   "source": [
    "import torch"
   ]
  },
  {
   "cell_type": "code",
   "execution_count": 2,
   "id": "6cad0361",
   "metadata": {},
   "outputs": [],
   "source": [
    "import unet"
   ]
  },
  {
   "cell_type": "code",
   "execution_count": 4,
   "id": "c717b0ce",
   "metadata": {
    "scrolled": true
   },
   "outputs": [],
   "source": [
    "noisy_imgs_1, noisy_imgs_2 = torch.load('train_data.pkl')"
   ]
  },
  {
   "cell_type": "code",
   "execution_count": 5,
   "id": "4bb646ae",
   "metadata": {},
   "outputs": [],
   "source": [
    "device = torch.device(\"cuda\" if torch.cuda.is_available() else \"cpu\")"
   ]
  },
  {
   "cell_type": "markdown",
   "id": "2db8518d",
   "metadata": {},
   "source": [
    "### TODO\n",
    "Store tensors on devices: all_ones = torch.ones (2 , 3).to(device)\n",
    "\n"
   ]
  },
  {
   "cell_type": "markdown",
   "id": "cfd0d209",
   "metadata": {},
   "source": [
    "https://github.com/yjn870/REDNet-pytorch/blob/master/model.py\n",
    "https://amaarora.github.io/2020/09/13/unet.html"
   ]
  },
  {
   "cell_type": "code",
   "execution_count": 6,
   "id": "d59c9e40",
   "metadata": {},
   "outputs": [],
   "source": [
    "import train"
   ]
  },
  {
   "cell_type": "code",
   "execution_count": 7,
   "id": "ca1f6783",
   "metadata": {},
   "outputs": [],
   "source": [
    "import torch"
   ]
  },
  {
   "cell_type": "code",
   "execution_count": 13,
   "id": "4752a907",
   "metadata": {},
   "outputs": [],
   "source": [
    "test = [14214,1241,14214,14,24,1,412,41,4,214,1]"
   ]
  },
  {
   "cell_type": "code",
   "execution_count": 14,
   "id": "a7908ac3",
   "metadata": {},
   "outputs": [
    {
     "name": "stdout",
     "output_type": "stream",
     "text": [
      "[14214, 1241, 14214, 14, 24, 1, 412, 41, 4, 214, 1]\n"
     ]
    }
   ],
   "source": [
    "print(test)"
   ]
  },
  {
   "cell_type": "code",
   "execution_count": 15,
   "id": "22dbf9ab",
   "metadata": {},
   "outputs": [],
   "source": [
    "def lol(test):\n",
    "    test[2] = 342\n",
    "    return test"
   ]
  },
  {
   "cell_type": "code",
   "execution_count": 16,
   "id": "d0189dd4",
   "metadata": {},
   "outputs": [],
   "source": [
    "lol(test)"
   ]
  },
  {
   "cell_type": "code",
   "execution_count": 17,
   "id": "eca0e307",
   "metadata": {},
   "outputs": [
    {
     "name": "stdout",
     "output_type": "stream",
     "text": [
      "[14214, 1241, 342, 14, 24, 1, 412, 41, 4, 214, 1]\n"
     ]
    }
   ],
   "source": [
    "print(test)"
   ]
  },
  {
   "cell_type": "code",
   "execution_count": 18,
   "id": "02be79ed",
   "metadata": {},
   "outputs": [],
   "source": [
    "class loll:\n",
    "    \n",
    "    def __init__(self):\n",
    "        self.lol = [213, 213, 132,42314]\n",
    "        \n",
    "    def hmm(self):\n",
    "        return self.lol"
   ]
  },
  {
   "cell_type": "code",
   "execution_count": 19,
   "id": "d0204ef5",
   "metadata": {},
   "outputs": [],
   "source": [
    "l = loll()"
   ]
  },
  {
   "cell_type": "code",
   "execution_count": 21,
   "id": "25215562",
   "metadata": {},
   "outputs": [],
   "source": [
    "t = l.hmm()"
   ]
  },
  {
   "cell_type": "code",
   "execution_count": 22,
   "id": "e3fbec20",
   "metadata": {},
   "outputs": [],
   "source": [
    "t[2] = 0"
   ]
  },
  {
   "cell_type": "code",
   "execution_count": 23,
   "id": "93a4aa41",
   "metadata": {},
   "outputs": [
    {
     "data": {
      "text/plain": [
       "[213, 213, 0, 42314]"
      ]
     },
     "execution_count": 23,
     "metadata": {},
     "output_type": "execute_result"
    }
   ],
   "source": [
    "l.lol"
   ]
  },
  {
   "cell_type": "code",
   "execution_count": null,
   "id": "d7a7c1f7",
   "metadata": {},
   "outputs": [],
   "source": []
  }
 ],
 "metadata": {
  "kernelspec": {
   "display_name": "Python 3 (ipykernel)",
   "language": "python",
   "name": "python3"
  },
  "language_info": {
   "codemirror_mode": {
    "name": "ipython",
    "version": 3
   },
   "file_extension": ".py",
   "mimetype": "text/x-python",
   "name": "python",
   "nbconvert_exporter": "python",
   "pygments_lexer": "ipython3",
   "version": "3.9.12"
  }
 },
 "nbformat": 4,
 "nbformat_minor": 5
}

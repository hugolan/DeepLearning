{
 "cells": [
  {
   "cell_type": "code",
   "execution_count": 1,
   "id": "ecc7b11b",
   "metadata": {},
   "outputs": [],
   "source": [
    "import torch"
   ]
  },
  {
   "cell_type": "code",
   "execution_count": 2,
   "id": "c717b0ce",
   "metadata": {
    "scrolled": true
   },
   "outputs": [],
   "source": [
    "noisy_imgs_1, noisy_imgs_2 = torch.load('train_data.pkl')"
   ]
  },
  {
   "cell_type": "code",
   "execution_count": 3,
   "id": "4bb646ae",
   "metadata": {},
   "outputs": [],
   "source": [
    "device = torch.device(\"cuda\" if torch.cuda.is_available() else \"cpu\")"
   ]
  },
  {
   "cell_type": "markdown",
   "id": "2db8518d",
   "metadata": {},
   "source": [
    "### TODO\n",
    "Store tensors on devices: all_ones = torch.ones (2 , 3).to(device)\n",
    "\n"
   ]
  },
  {
   "cell_type": "code",
   "execution_count": 10,
   "id": "3831869a",
   "metadata": {},
   "outputs": [],
   "source": [
    "def __init__() -> None:\n",
    "#instantiate model + optimizer + loss function + any stuff needed\n",
    "    device = torch.device(\"cuda\" if torch.cuda.is_available() else \"cpu\")\n",
    "    return"
   ]
  },
  {
   "cell_type": "code",
   "execution_count": 11,
   "id": "4f304ee8",
   "metadata": {},
   "outputs": [],
   "source": [
    "def load_pretrained_model(self) -> None:\n",
    "## This loads the parameters saved in bestmodel .pth into the model\n",
    "    return\n"
   ]
  },
  {
   "cell_type": "code",
   "execution_count": 12,
   "id": "c75e87f7",
   "metadata": {},
   "outputs": [],
   "source": [
    "def train(self, train_input, train_target, num_epochs) -> None:\n",
    "#train_input : tensor of size (N, C, H, W) containing a noisy version of the images\n",
    "#train_target : tensor of size (N, C, H, W) containing another noisy version of the same images , which only differs from the input by their noise\n",
    "    return"
   ]
  },
  {
   "cell_type": "code",
   "execution_count": null,
   "id": "4ff2980a",
   "metadata": {},
   "outputs": [],
   "source": [
    "def predict(self, test_input) -> torch.Tensor:\n",
    "#test_input : tensor of size (N1 , C, H, W) that has to be denoised by the trained or the loaded network .\n",
    "#returns a tensor of the size (N1 , C, H, W)\n",
    "    return "
   ]
  }
 ],
 "metadata": {
  "kernelspec": {
   "display_name": "Python 3 (ipykernel)",
   "language": "python",
   "name": "python3"
  },
  "language_info": {
   "codemirror_mode": {
    "name": "ipython",
    "version": 3
   },
   "file_extension": ".py",
   "mimetype": "text/x-python",
   "name": "python",
   "nbconvert_exporter": "python",
   "pygments_lexer": "ipython3",
   "version": "3.8.12"
  }
 },
 "nbformat": 4,
 "nbformat_minor": 5
}
